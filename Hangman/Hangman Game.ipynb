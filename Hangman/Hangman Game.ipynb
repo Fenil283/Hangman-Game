{
 "cells": [
  {
   "cell_type": "code",
   "execution_count": 4,
   "metadata": {},
   "outputs": [
    {
     "name": "stdout",
     "output_type": "stream",
     "text": [
      "\n",
      "Welcome to Hangman\n",
      "\n",
      "Enter your name: Fenil\n",
      "\n"
     ]
    }
   ],
   "source": [
    "import random\n",
    "import time\n",
    "\n",
    "print(\"\\nWelcome to Hangman\\n\")\n",
    "name = input(\"Enter your name: \")\n",
    "print(\"Hello \" + name + \"! Its time to show some skills.\")\n",
    "time.sleep(2)\n",
    "print(\"Game setup is about to ready\")\n",
    "time.sleep(3)"
   ]
  },
  {
   "cell_type": "code",
   "execution_count": null,
   "metadata": {},
   "outputs": [],
   "source": [
    "def main():\n",
    "    global count\n",
    "    global display\n",
    "    global word\n",
    "    global already_guessed\n",
    "    global length\n",
    "    global play_game\n",
    "    \n",
    "    guess = [\"january\",\"border\",\"image\",\"film\",\"promise\",\"kids\",\"lungs\",\"doll\",\"rhyme\",\"damage\",\"plants\"]\n",
    "    word = random.choice(guess)\n",
    "    l  =len(word)\n",
    "    count = 0\n",
    "    display = \"_\"*l\n",
    "    already_guessed = []\n",
    "    play_game = \"\""
   ]
  }
 ],
 "metadata": {
  "kernelspec": {
   "display_name": "Python 3",
   "language": "python",
   "name": "python3"
  },
  "language_info": {
   "codemirror_mode": {
    "name": "ipython",
    "version": 3
   },
   "file_extension": ".py",
   "mimetype": "text/x-python",
   "name": "python",
   "nbconvert_exporter": "python",
   "pygments_lexer": "ipython3",
   "version": "3.8.5"
  }
 },
 "nbformat": 4,
 "nbformat_minor": 4
}
